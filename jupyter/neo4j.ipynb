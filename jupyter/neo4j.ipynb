{
 "cells": [
  {
   "cell_type": "markdown",
   "id": "36a8c882-8211-4bda-8f12-a6891f358cfc",
   "metadata": {
    "tags": []
   },
   "source": [
    "# <center> Тестовое задание по графовым базам данных"
   ]
  },
  {
   "cell_type": "markdown",
   "id": "0168213a-d611-43b4-8dc8-128805629616",
   "metadata": {},
   "source": [
    "Для выполнения задания были установлены **Neo4j Browser** и **Nebula Graph**."
   ]
  },
  {
   "cell_type": "markdown",
   "id": "d8fdaaba-b976-4fe5-9f1e-159c38c8f876",
   "metadata": {},
   "source": [
    "Демонстрация установленого **Nebula Graph**:\n",
    "![nebula](nebula-console.png)"
   ]
  },
  {
   "cell_type": "markdown",
   "id": "6195b927-612c-4288-bb43-06974fa1cc1f",
   "metadata": {
    "tags": []
   },
   "source": [
    "Демонстрация установленного **Neo4j Browser**:\n",
    "![neo4j](neo4j.png)"
   ]
  },
  {
   "cell_type": "markdown",
   "id": "e02eb62f-b8f6-4eac-a30b-0a8365992115",
   "metadata": {
    "tags": []
   },
   "source": [
    "В дальнейшем для выполнения задания используется **Neo4j Browser**."
   ]
  },
  {
   "cell_type": "markdown",
   "id": "dd26deb8-1056-489e-91ea-453f62b8d114",
   "metadata": {
    "tags": []
   },
   "source": [
    "## <center> Заполнение базы данных"
   ]
  },
  {
   "cell_type": "markdown",
   "id": "ceeaf8a4-c2e6-42b0-a102-be1ae0242dea",
   "metadata": {},
   "source": [
    "Создадим ограничения на уникальность для событий и людей:\n",
    "\n",
    "``` cypher\n",
    "CREATE CONSTRAINT Event_id IF NOT EXISTS\n",
    "FOR (e:Event)\n",
    "REQUIRE e.eventId IS UNIQUE;\n",
    "     \n",
    "CREATE CONSTRAINT Person_fullName IF NOT EXISTS\n",
    "FOR (p:Person)\n",
    "REQUIRE p.fullName IS UNIQUE;\n",
    "```"
   ]
  },
  {
   "cell_type": "markdown",
   "id": "e950fc39-b56b-425e-9271-2a43259f5c3f",
   "metadata": {},
   "source": [
    "Внесем данные из источника в графовую базу данных:\n",
    "\n",
    "``` cypher\n",
    "CALL {\n",
    "    LOAD CSV WITH HEADERS\n",
    "    FROM 'https://disk.yandex.ru/d/s6wWqd8Ol_5IvQ' AS row \n",
    "    FIELDTERMINATOR ';'\n",
    "    WITH row\n",
    "    MERGE (e:Event {eventId: toInteger(row.`id события`)})\n",
    "    MERGE (p1:Person {fullName: row.`ФИО участника события 1`})\n",
    "    MERGE (p2:Person {fullName: row.`ФИО участника события 2`})\n",
    "    MERGE (p1)-[:PARTICIPATED_IN]->(e)\n",
    "    MERGE (p2)-[:PARTICIPATED_IN]->(e)\n",
    "}\n",
    "```"
   ]
  },
  {
   "cell_type": "markdown",
   "id": "4bbaa5b5-103e-4bae-895b-ed2119711468",
   "metadata": {},
   "source": [
    "Посмотрим на получившееся графовое представление (по умолчанию Neo4j показывает небольше 300 узлов и не больше 100 соседей для каждого)\n",
    "``` cypher\n",
    "MATCH (n) RETURN n\n",
    "```"
   ]
  },
  {
   "cell_type": "markdown",
   "id": "71b95d8f-bdbf-48d4-969c-6800a20620bc",
   "metadata": {
    "tags": []
   },
   "source": [
    "[<img src=\"graph0.png\" width=\"400\"/>](graph0.png)"
   ]
  },
  {
   "cell_type": "markdown",
   "id": "ac29f5b4-5e47-4ff9-b4a7-1666ce229290",
   "metadata": {
    "tags": []
   },
   "source": [
    "## <center> Запросы к базе данных"
   ]
  },
  {
   "cell_type": "markdown",
   "id": "665e7261-b1aa-4b85-a994-34be5f116cc3",
   "metadata": {},
   "source": [
    "Найдем человека, участвовавшего в максимальном количестве событий:\n",
    "\n",
    "``` cypher\n",
    "MATCH (p:Person)-->(e:Event)\n",
    "RETURN p, COLLECT(e) as events\n",
    "ORDER BY SIZE(events) DESC LIMIT 1\n",
    "```"
   ]
  },
  {
   "cell_type": "markdown",
   "id": "5da89857-7755-4906-b5e3-93edc9785d46",
   "metadata": {},
   "source": [
    "[<img src=\"graph1.png\" width=\"400\"/>](graph1.png)"
   ]
  },
  {
   "cell_type": "markdown",
   "id": "060db232-2b56-4ece-a7a9-e64ce20ab024",
   "metadata": {},
   "source": [
    "Этот человек - Ахромеева Алина Ивановна. Найдем всех встреченных ею людей:\n",
    "\n",
    "``` cypher\n",
    "MATCH (p1:Person {fullName: 'Ахромеева Алина Ивановна'})-->(e:Event)<--(p2:Person)\n",
    "WITH COLLECT(p2) as acquaintances\n",
    "UNWIND acquaintances AS acquintance\n",
    "RETURN acquintance.fullName\n",
    "```    "
   ]
  },
  {
   "cell_type": "markdown",
   "id": "49a0b06e-d46b-4ce2-bac4-f41f5c8df635",
   "metadata": {},
   "source": [
    "Посмотрим на первых 5 человек:"
   ]
  },
  {
   "cell_type": "code",
   "execution_count": 1,
   "id": "97ecc5ca-0ad7-4f19-be11-3b75ae75f609",
   "metadata": {
    "tags": []
   },
   "outputs": [
    {
     "data": {
      "text/html": [
       "<div>\n",
       "<style scoped>\n",
       "    .dataframe tbody tr th:only-of-type {\n",
       "        vertical-align: middle;\n",
       "    }\n",
       "\n",
       "    .dataframe tbody tr th {\n",
       "        vertical-align: top;\n",
       "    }\n",
       "\n",
       "    .dataframe thead th {\n",
       "        text-align: right;\n",
       "    }\n",
       "</style>\n",
       "<table border=\"1\" class=\"dataframe\">\n",
       "  <thead>\n",
       "    <tr style=\"text-align: right;\">\n",
       "      <th></th>\n",
       "      <th>acquintance.fullName</th>\n",
       "    </tr>\n",
       "  </thead>\n",
       "  <tbody>\n",
       "    <tr>\n",
       "      <th>0</th>\n",
       "      <td>Андриевская Марина Ринатовна</td>\n",
       "    </tr>\n",
       "    <tr>\n",
       "      <th>1</th>\n",
       "      <td>Камилов Дамир Павлович</td>\n",
       "    </tr>\n",
       "    <tr>\n",
       "      <th>2</th>\n",
       "      <td>Арбачаков Филипп Андреевич</td>\n",
       "    </tr>\n",
       "    <tr>\n",
       "      <th>3</th>\n",
       "      <td>Тяжлов Ринат Владиславович</td>\n",
       "    </tr>\n",
       "    <tr>\n",
       "      <th>4</th>\n",
       "      <td>Дудыкина Мария Романовна</td>\n",
       "    </tr>\n",
       "  </tbody>\n",
       "</table>\n",
       "</div>"
      ],
      "text/plain": [
       "           acquintance.fullName\n",
       "0  Андриевская Марина Ринатовна\n",
       "1        Камилов Дамир Павлович\n",
       "2    Арбачаков Филипп Андреевич\n",
       "3    Тяжлов Ринат Владиславович\n",
       "4      Дудыкина Мария Романовна"
      ]
     },
     "execution_count": 1,
     "metadata": {},
     "output_type": "execute_result"
    }
   ],
   "source": [
    "import pandas as pd\n",
    "\n",
    "df = pd.read_csv(\"export1.csv\")\n",
    "df.head(5)"
   ]
  },
  {
   "cell_type": "markdown",
   "id": "e5bcb253-35be-4e6b-9f41-1f04ec67363b",
   "metadata": {},
   "source": [
    "Найдем события, в которых участвовало больше двух человек:\n",
    "\n",
    "``` cypher\n",
    "MATCH (p:Person)-->(e:Event)\n",
    "WITH e, COLLECT(p) as participants\n",
    "WHERE SIZE(participants) > 2\n",
    "RETURN e, participants\n",
    "```"
   ]
  },
  {
   "cell_type": "markdown",
   "id": "53f402de-64e8-4f40-a3b8-7ce5ac65e6e1",
   "metadata": {
    "tags": []
   },
   "source": [
    "[<img src=\"graph2.png\" width=\"400\"/>](graph2.png)"
   ]
  },
  {
   "cell_type": "markdown",
   "id": "c8b8c8e9-5e77-4362-9956-d8595b6c7704",
   "metadata": {
    "tags": []
   },
   "source": [
    "## <center> Использование алгоритмов"
   ]
  },
  {
   "cell_type": "markdown",
   "id": "67fe8e88-100d-4d88-b2d5-7bc1adc914b8",
   "metadata": {
    "tags": []
   },
   "source": [
    "### <center> Degree Centrality"
   ]
  },
  {
   "cell_type": "markdown",
   "id": "1a3475c2-f10a-4248-8d3f-7e0baaa8eb93",
   "metadata": {
    "tags": []
   },
   "source": [
    "Создадим проекцию:\n",
    "\n",
    "``` cypher\n",
    "CALL gds.graph.project('proj', ['Person', 'Event'], 'PARTICIPATED_IN')\n",
    "```"
   ]
  },
  {
   "cell_type": "markdown",
   "id": "de1b33e0-c006-4dfa-827b-a76e7aa3e16f",
   "metadata": {},
   "source": [
    "Найдем 5 человек, участвовавших в максимальном количестве событий:\n",
    "\n",
    "``` cypher\n",
    "CALL gds.degree.stream('proj')\n",
    "YIELD nodeId, score\n",
    "RETURN gds.util.asNode(nodeId).fullName AS person, score AS numberOfEvents\n",
    "ORDER BY numberOfEvents DESC, person LIMIT 5\n",
    "```"
   ]
  },
  {
   "cell_type": "code",
   "execution_count": 2,
   "id": "4570ebc2-e638-4808-a402-2b774b39590a",
   "metadata": {
    "tags": []
   },
   "outputs": [
    {
     "data": {
      "text/html": [
       "<div>\n",
       "<style scoped>\n",
       "    .dataframe tbody tr th:only-of-type {\n",
       "        vertical-align: middle;\n",
       "    }\n",
       "\n",
       "    .dataframe tbody tr th {\n",
       "        vertical-align: top;\n",
       "    }\n",
       "\n",
       "    .dataframe thead th {\n",
       "        text-align: right;\n",
       "    }\n",
       "</style>\n",
       "<table border=\"1\" class=\"dataframe\">\n",
       "  <thead>\n",
       "    <tr style=\"text-align: right;\">\n",
       "      <th></th>\n",
       "      <th>person</th>\n",
       "      <th>numberOfEvents</th>\n",
       "    </tr>\n",
       "  </thead>\n",
       "  <tbody>\n",
       "    <tr>\n",
       "      <th>0</th>\n",
       "      <td>Ахромеева Алина Ивановна</td>\n",
       "      <td>50</td>\n",
       "    </tr>\n",
       "    <tr>\n",
       "      <th>1</th>\n",
       "      <td>Башнина Антонина Глебовна</td>\n",
       "      <td>14</td>\n",
       "    </tr>\n",
       "    <tr>\n",
       "      <th>2</th>\n",
       "      <td>Медведева Дарья Алексеевна</td>\n",
       "      <td>6</td>\n",
       "    </tr>\n",
       "    <tr>\n",
       "      <th>3</th>\n",
       "      <td>Диомидов Игорь Ильдарович</td>\n",
       "      <td>5</td>\n",
       "    </tr>\n",
       "    <tr>\n",
       "      <th>4</th>\n",
       "      <td>Зимнухова Карина Даниловна</td>\n",
       "      <td>5</td>\n",
       "    </tr>\n",
       "  </tbody>\n",
       "</table>\n",
       "</div>"
      ],
      "text/plain": [
       "                       person  numberOfEvents\n",
       "0    Ахромеева Алина Ивановна              50\n",
       "1   Башнина Антонина Глебовна              14\n",
       "2  Медведева Дарья Алексеевна               6\n",
       "3   Диомидов Игорь Ильдарович               5\n",
       "4  Зимнухова Карина Даниловна               5"
      ]
     },
     "execution_count": 2,
     "metadata": {},
     "output_type": "execute_result"
    }
   ],
   "source": [
    "import pandas as pd\n",
    "\n",
    "df = pd.read_csv(\"export2.csv\")\n",
    "df"
   ]
  },
  {
   "cell_type": "markdown",
   "id": "7ada433f-9d07-41b7-b9e1-93f47243e0ae",
   "metadata": {},
   "source": [
    "### <center> Louvain Community Detection"
   ]
  },
  {
   "cell_type": "markdown",
   "id": "0e4b606d-a547-41a9-9822-369f79418d4b",
   "metadata": {
    "tags": []
   },
   "source": [
    "Создадим проекцию с ненаправленными отношениями:\n",
    "\n",
    "``` cypher\n",
    "CALL gds.graph.project(\n",
    "    'path-proj', \n",
    "    ['Person', 'Event'], \n",
    "    {PARTICIPATED_IN: {orientation: 'UNDIRECTED'}}\n",
    ")\n",
    "```"
   ]
  },
  {
   "cell_type": "markdown",
   "id": "056e24e2-0524-475d-b6e6-0280d36dba5d",
   "metadata": {},
   "source": [
    "С помощью алгоритма Louvain Community Detection разделим узлы на группы:\n",
    "\n",
    "``` cypher\n",
    "CALL gds.louvain.mutate('path-proj', {mutateProperty: 'communityId'})\n",
    "```"
   ]
  },
  {
   "cell_type": "markdown",
   "id": "de132e1a-71f4-476a-978a-a21ea8959211",
   "metadata": {},
   "source": [
    "Определим идентификаторы пяти самых больших групп:\n",
    "\n",
    "``` cypher\n",
    "CALL gds.graph.nodeProperty.stream('path-proj', 'communityId', ['Person'])\n",
    "YIELD nodeId, propertyValue\n",
    "WITH propertyValue AS communityId, size(collect(nodeId)) AS nodesCount\n",
    "RETURN communityId, nodesCount ORDER BY nodesCount DESC LIMIT 5\n",
    "```"
   ]
  },
  {
   "cell_type": "code",
   "execution_count": 3,
   "id": "92aa4540-5aca-4c00-b307-a793ac47ecfb",
   "metadata": {
    "tags": []
   },
   "outputs": [
    {
     "data": {
      "text/html": [
       "<div>\n",
       "<style scoped>\n",
       "    .dataframe tbody tr th:only-of-type {\n",
       "        vertical-align: middle;\n",
       "    }\n",
       "\n",
       "    .dataframe tbody tr th {\n",
       "        vertical-align: top;\n",
       "    }\n",
       "\n",
       "    .dataframe thead th {\n",
       "        text-align: right;\n",
       "    }\n",
       "</style>\n",
       "<table border=\"1\" class=\"dataframe\">\n",
       "  <thead>\n",
       "    <tr style=\"text-align: right;\">\n",
       "      <th></th>\n",
       "      <th>communityId</th>\n",
       "      <th>nodesCount</th>\n",
       "    </tr>\n",
       "  </thead>\n",
       "  <tbody>\n",
       "    <tr>\n",
       "      <th>0</th>\n",
       "      <td>7979</td>\n",
       "      <td>53</td>\n",
       "    </tr>\n",
       "    <tr>\n",
       "      <th>1</th>\n",
       "      <td>10959</td>\n",
       "      <td>15</td>\n",
       "    </tr>\n",
       "    <tr>\n",
       "      <th>2</th>\n",
       "      <td>5834</td>\n",
       "      <td>13</td>\n",
       "    </tr>\n",
       "    <tr>\n",
       "      <th>3</th>\n",
       "      <td>1098</td>\n",
       "      <td>7</td>\n",
       "    </tr>\n",
       "    <tr>\n",
       "      <th>4</th>\n",
       "      <td>9511</td>\n",
       "      <td>7</td>\n",
       "    </tr>\n",
       "  </tbody>\n",
       "</table>\n",
       "</div>"
      ],
      "text/plain": [
       "   communityId  nodesCount\n",
       "0         7979          53\n",
       "1        10959          15\n",
       "2         5834          13\n",
       "3         1098           7\n",
       "4         9511           7"
      ]
     },
     "execution_count": 3,
     "metadata": {},
     "output_type": "execute_result"
    }
   ],
   "source": [
    "import pandas as pd\n",
    "\n",
    "df = pd.read_csv(\"export3.csv\")\n",
    "df"
   ]
  },
  {
   "cell_type": "markdown",
   "id": "3102869c-c7bd-48c4-9709-cbe1df6d5a2e",
   "metadata": {
    "tags": []
   },
   "source": [
    "Посмотрим на две самые большие группы:\n",
    "\n",
    "``` cypher\n",
    "CALL gds.graph.nodeProperty.stream('path-proj', 'communityId', ['Person', 'Event'])\n",
    "YIELD nodeId, propertyValue\n",
    "WITH gds.util.asNode(nodeId) AS n, propertyValue AS communityId\n",
    "WHERE communityId  IN [7979, 10959]\n",
    "RETURN n\n",
    "```"
   ]
  },
  {
   "cell_type": "markdown",
   "id": "eeff67a2-d341-43e7-b712-e475e4e7b7f5",
   "metadata": {},
   "source": [
    "[<img src=\"graph3.png\" width=\"500\"/>](graph3.png)"
   ]
  },
  {
   "cell_type": "markdown",
   "id": "3f46d677-c657-44a6-8cf0-c7674908c656",
   "metadata": {},
   "source": [
    "Эти группы формируются вокруг людей, участвовавших в большом количестве событий."
   ]
  }
 ],
 "metadata": {
  "kernelspec": {
   "display_name": "Python 3 (ipykernel)",
   "language": "python",
   "name": "python3"
  },
  "language_info": {
   "codemirror_mode": {
    "name": "ipython",
    "version": 3
   },
   "file_extension": ".py",
   "mimetype": "text/x-python",
   "name": "python",
   "nbconvert_exporter": "python",
   "pygments_lexer": "ipython3",
   "version": "3.8.10"
  }
 },
 "nbformat": 4,
 "nbformat_minor": 5
}
